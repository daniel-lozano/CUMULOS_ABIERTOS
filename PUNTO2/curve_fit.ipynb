{
 "metadata": {
  "name": "",
  "signature": "sha256:7bdc34ed59bfff6334d9868a24da0eaf8705a48ae277c340cb3de822d3f753ab"
 },
 "nbformat": 3,
 "nbformat_minor": 0,
 "worksheets": [
  {
   "cells": [
    {
     "cell_type": "code",
     "collapsed": false,
     "input": [
      "%pylab inline"
     ],
     "language": "python",
     "metadata": {},
     "outputs": [
      {
       "output_type": "stream",
       "stream": "stdout",
       "text": [
        "Populating the interactive namespace from numpy and matplotlib\n"
       ]
      }
     ],
     "prompt_number": 57
    },
    {
     "cell_type": "code",
     "collapsed": false,
     "input": [
      "archivo=loadtxt(open(\"puntos.txt\",\"r\"))"
     ],
     "language": "python",
     "metadata": {},
     "outputs": [],
     "prompt_number": 58
    },
    {
     "cell_type": "code",
     "collapsed": false,
     "input": [
      "x=archivo[:,0]\n",
      "y=archivo[:,1]\n",
      "print x"
     ],
     "language": "python",
     "metadata": {},
     "outputs": [
      {
       "output_type": "stream",
       "stream": "stdout",
       "text": [
        "[ 17.97368454  18.1370768   19.33053034  19.92692328  20.43211768\n",
        "  20.95556926  21.44698337  21.96733517  22.43525981  22.9411684\n",
        "  23.45633897  23.97542534  24.47522115  24.94384036]\n"
       ]
      }
     ],
     "prompt_number": 60
    },
    {
     "cell_type": "code",
     "collapsed": false,
     "input": [
      "scatter(x,y)"
     ],
     "language": "python",
     "metadata": {},
     "outputs": [
      {
       "metadata": {},
       "output_type": "pyout",
       "prompt_number": 61,
       "text": [
        "<matplotlib.collections.PathCollection at 0x104fab950>"
       ]
      },
      {
       "metadata": {},
       "output_type": "display_data",
       "png": "[encoded data removed]",
       "text": [
        "<matplotlib.figure.Figure at 0x104f3d690>"
       ]
      }
     ],
     "prompt_number": 61
    },
    {
     "cell_type": "code",
     "collapsed": false,
     "input": [
      "from scipy.optimize import curve_fit\n",
      "\n",
      "def fun(x,a,b,c,d):\n",
      "    return a*x**3+b*x**2+c*x+d\n",
      "\n",
      "\n",
      "valores,otros=curve_fit(fun,x,y)"
     ],
     "language": "python",
     "metadata": {},
     "outputs": [],
     "prompt_number": 62
    },
    {
     "cell_type": "code",
     "collapsed": false,
     "input": [
      "print valores\n",
      "print otros"
     ],
     "language": "python",
     "metadata": {},
     "outputs": [
      {
       "output_type": "stream",
       "stream": "stdout",
       "text": [
        "[  7.33978744e-04  -5.66691302e-02   1.44077100e+00  -1.18432634e+01]\n",
        "[[  7.16575543e-07  -4.60093432e-05   9.78335426e-04  -6.88816174e-03]\n",
        " [ -4.60093432e-05   2.95641957e-03  -6.29141815e-02   4.43308290e-01]\n",
        " [  9.78335426e-04  -6.29141815e-02   1.33992077e+00  -9.44905224e+00]\n",
        " [ -6.88816174e-03   4.43308290e-01  -9.44905224e+00   6.66892974e+01]]\n"
       ]
      }
     ],
     "prompt_number": 63
    },
    {
     "cell_type": "code",
     "collapsed": false,
     "input": [
      "print max(x),min(x)\n",
      "intervalo=linspace(15,24)\n",
      "funcion=fun(intervalo,valores[0],valores[1],valores[2],valores[3])"
     ],
     "language": "python",
     "metadata": {},
     "outputs": [
      {
       "output_type": "stream",
       "stream": "stdout",
       "text": [
        "24.943840359 17.9736845361\n"
       ]
      }
     ],
     "prompt_number": 64
    },
    {
     "cell_type": "code",
     "collapsed": false,
     "input": [
      "scatter(x,y)\n",
      "plot(intervalo,funcion,\"--\")\n",
      "xlabel(\"$ Mag $\",size=15)\n",
      "ylabel(\"$ \\sigma $\",size=20)\n",
      "\n",
      "legend()\n"
     ],
     "language": "python",
     "metadata": {},
     "outputs": [
      {
       "metadata": {},
       "output_type": "display_data",
       "png": "[encoded data removed]",
       "text": [
        "<matplotlib.figure.Figure at 0x10506de90>"
       ]
      }
     ],
     "prompt_number": 65
    },
    {
     "cell_type": "heading",
     "level": 1,
     "metadata": {},
     "source": [
      "$ funcion:\\\\ 7.34*10^{-4}*x^{3}\\ -\\ 5.67*10^{-2}*x^{3}\\ +\\ 1.44*x-1.184    $"
     ]
    },
    {
     "cell_type": "code",
     "collapsed": false,
     "input": [
      "perr = np.sqrt(np.diag(otros))\n",
      "print perr"
     ],
     "language": "python",
     "metadata": {},
     "outputs": [
      {
       "output_type": "stream",
       "stream": "stdout",
       "text": [
        "[  8.46507852e-04   5.43729673e-02   1.15754947e+00   8.16635153e+00]\n"
       ]
      }
     ],
     "prompt_number": 66
    },
    {
     "cell_type": "code",
     "collapsed": false,
     "input": [
      "error=0\n",
      "a=valores[0]\n",
      "b=valores[1]\n",
      "c=valores[2]\n",
      "d=valores[3]\n",
      "for i in range(len(x)):\n",
      "    X=x[i]\n",
      "    error=error+((fun(X,a,b,c,d)-y[i])**2)/y[i]\n",
      "print error"
     ],
     "language": "python",
     "metadata": {},
     "outputs": [
      {
       "output_type": "stream",
       "stream": "stdout",
       "text": [
        "0.0617776668199\n"
       ]
      }
     ],
     "prompt_number": 68
    },
    {
     "cell_type": "heading",
     "level": 1,
     "metadata": {},
     "source": [
      "$ FUNCI\u00d3N\\ A\\ GRAFICAR:\\\\  7.34*10^{-4}*x^{3}\\ -\\ 5.67*10^{-2}*x^{3}\\ +\\ 1.44*x-1.184 +0.061\\ (error\\ por\\ \\chi^{2}) $\n"
     ]
    },
    {
     "cell_type": "code",
     "collapsed": false,
     "input": [],
     "language": "python",
     "metadata": {},
     "outputs": []
    }
   ],
   "metadata": {}
  }
 ]
}